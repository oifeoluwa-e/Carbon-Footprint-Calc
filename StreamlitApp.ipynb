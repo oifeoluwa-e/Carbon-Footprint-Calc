{
 "cells": [
  {
   "cell_type": "code",
   "execution_count": 2,
   "id": "e6480f0d-09ac-41c6-8892-02b3860c0d35",
   "metadata": {},
   "outputs": [],
   "source": [
    "#!pip install streamlit pandas openai"
   ]
  },
  {
   "cell_type": "code",
   "execution_count": 3,
   "id": "fa073747-edde-440c-ac46-990167d04a3d",
   "metadata": {},
   "outputs": [
    {
     "name": "stderr",
     "output_type": "stream",
     "text": [
      "2024-12-02 23:44:24.637 \n",
      "  \u001b[33m\u001b[1mWarning:\u001b[0m to view this Streamlit app on a browser, run it with the following\n",
      "  command:\n",
      "\n",
      "    streamlit run C:\\Users\\User\\anaconda3\\Lib\\site-packages\\ipykernel_launcher.py [ARGUMENTS]\n",
      "2024-12-02 23:44:24.637 Session state does not function when running a script without `streamlit run`\n"
     ]
    }
   ],
   "source": [
    "import streamlit as st\n",
    "import openai\n",
    "\n",
    "# Set OpenAI API Key\n",
    "openai.api_key = \"your-openai-api-key\"\n",
    "\n",
    "# Emission Factors\n",
    "EMISSION_FACTORS = {\n",
    "    \"transport\": 0.21,  # kg CO₂ per km\n",
    "    \"electricity\": 0.475,  # kg CO₂ per kWh\n",
    "    \"diet\": {\"Omnivore\": 2.5, \"Vegetarian\": 1.7, \"Vegan\": 1.5},  # kg CO₂ per day\n",
    "    \"waste\": 3.5  # kg CO₂ per kg\n",
    "}\n",
    "\n",
    "# Title and Description\n",
    "st.title(\"🌍 Carbon Footprint Calculator\")\n",
    "st.write(\"Calculate your carbon footprint and get tips to reduce it.\")\n",
    "\n",
    "# Inputs from User\n",
    "st.header(\"Enter Your Details:\")\n",
    "transportation = st.number_input(\"Daily travel distance (in km):\", min_value=0)\n",
    "electricity = st.number_input(\"Monthly electricity usage (in kWh):\", min_value=0)\n",
    "diet = st.selectbox(\"Your primary diet:\", [\"Omnivore\", \"Vegetarian\", \"Vegan\"])\n",
    "waste = st.number_input(\"Weekly waste produced (in kg):\", min_value=0)\n",
    "\n",
    "# Calculate Emissions\n",
    "def calculate_emissions(transportation, electricity, diet, waste):\n",
    "    transport_emission = transportation * EMISSION_FACTORS[\"transport\"] * 30  # monthly\n",
    "    electricity_emission = electricity * EMISSION_FACTORS[\"electricity\"]\n",
    "    diet_emission = EMISSION_FACTORS[\"diet\"][diet] * 30  # monthly\n",
    "    waste_emission = waste * EMISSION_FACTORS[\"waste\"] * 4  # monthly\n",
    "    total_emissions = transport_emission + electricity_emission + diet_emission + waste_emission\n",
    "    return total_emissions\n",
    "\n",
    "if st.button(\"Calculate Footprint\"):\n",
    "    total_emissions = calculate_emissions(transportation, electricity, diet, waste)\n",
    "    st.success(f\"🌱 Your total carbon footprint is approximately **{total_emissions:.2f} kg CO₂/month**\")\n",
    "\n",
    "    # Get Suggestions\n",
    "    def get_suggestions(emissions):\n",
    "        prompt = f\"My carbon footprint is {emissions:.2f} kg CO₂ per month. How can I reduce it?\"\n",
    "        response = openai.Completion.create(\n",
    "            engine=\"text-davinci-003\",\n",
    "            prompt=prompt,\n",
    "            max_tokens=150\n",
    "        )\n",
    "        return response.choices[0].text.strip()\n",
    "\n",
    "    if st.button(\"Get Suggestions\"):\n",
    "        suggestions = get_suggestions(total_emissions)\n",
    "        st.info(f\"💡 Suggestions to reduce your footprint:\\n\\n{suggestions}\")\n"
   ]
  },
  {
   "cell_type": "code",
   "execution_count": 7,
   "id": "f5330064-2116-41d0-bf23-63bf64a9d815",
   "metadata": {},
   "outputs": [
    {
     "name": "stdout",
     "output_type": "stream",
     "text": [
      "^C\n"
     ]
    }
   ],
   "source": [
    "!streamlit run \"C:\\AI Project\\Carbon Footprint Calculator\\StreamlitApp.py\""
   ]
  },
  {
   "cell_type": "code",
   "execution_count": null,
   "id": "fd8a75a2-9d02-418d-8c2a-5ac37ecee435",
   "metadata": {},
   "outputs": [],
   "source": []
  }
 ],
 "metadata": {
  "kernelspec": {
   "display_name": "Python 3 (ipykernel)",
   "language": "python",
   "name": "python3"
  },
  "language_info": {
   "codemirror_mode": {
    "name": "ipython",
    "version": 3
   },
   "file_extension": ".py",
   "mimetype": "text/x-python",
   "name": "python",
   "nbconvert_exporter": "python",
   "pygments_lexer": "ipython3",
   "version": "3.12.7"
  }
 },
 "nbformat": 4,
 "nbformat_minor": 5
}
