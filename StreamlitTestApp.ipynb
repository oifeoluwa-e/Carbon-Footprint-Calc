{
 "cells": [
  {
   "cell_type": "code",
   "execution_count": 2,
   "id": "cf124d55-a314-4f33-8d66-f31eb5417d9d",
   "metadata": {},
   "outputs": [],
   "source": [
    "\n",
    "from openai import OpenAI\n",
    "import os\n",
    "import openai\n",
    "\n"
   ]
  },
  {
   "cell_type": "code",
   "execution_count": 3,
   "id": "e6b77f17-d8f6-480d-b31e-2cd2421c9f34",
   "metadata": {},
   "outputs": [
    {
     "name": "stdout",
     "output_type": "stream",
     "text": [
      "Reducing your carbon footprint is a commendable goal, and there are various strategies you can implement to achieve it. Since your carbon footprint is currently 100 kg CO₂ per month, here are some practical steps you can take to reduce it further:\n",
      "\n",
      "1. **Transportation:**\n",
      "   - Walk, bike, or use public transportation more often instead of driving.\n",
      "   - Carpool or share rides when possible.\n",
      "   - If you drive, consider switching to a more fuel-efficient or electric vehicle.\n",
      "\n",
      "2\n"
     ]
    }
   ],
   "source": [
    "\n",
    "client = OpenAI(\n",
    "    api_key=os.environ.get(\"OPENAI_API_KEY\"),)\n",
    "\n",
    "try:\n",
    "    prompt = \"My carbon footprint is 100 kg CO₂ per month. How can I reduce it?\"\n",
    "    response = client.chat.completions.create(\n",
    "    model=\"gpt-4o\",\n",
    "    messages=[\n",
    "        {\n",
    "            \"role\": \"user\",\n",
    "            \"content\": prompt,\n",
    "        }\n",
    "    ],\n",
    "        max_tokens=100\n",
    "    )\n",
    "    \n",
    "    print(response.choices[0].message.content)\n",
    "except Exception as e:\n",
    "    print(\"Error with OpenAI API:\", e)\n"
   ]
  },
  {
   "cell_type": "code",
   "execution_count": null,
   "id": "5c1de308-a293-4199-af11-4469e113b060",
   "metadata": {},
   "outputs": [],
   "source": []
  }
 ],
 "metadata": {
  "kernelspec": {
   "display_name": "Python 3 (ipykernel)",
   "language": "python",
   "name": "python3"
  },
  "language_info": {
   "codemirror_mode": {
    "name": "ipython",
    "version": 3
   },
   "file_extension": ".py",
   "mimetype": "text/x-python",
   "name": "python",
   "nbconvert_exporter": "python",
   "pygments_lexer": "ipython3",
   "version": "3.12.7"
  }
 },
 "nbformat": 4,
 "nbformat_minor": 5
}
